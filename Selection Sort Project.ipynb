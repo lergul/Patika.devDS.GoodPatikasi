{
 "cells": [
  {
   "cell_type": "code",
   "execution_count": 5,
   "id": "4bc715c5",
   "metadata": {},
   "outputs": [],
   "source": [
    "# Proje 1\n",
    "# [22,27,16,2,18,6] -> Insertion Sort\n",
    "# Insertion sort steps are applied.\n",
    "# [22,27,16,2,18,6] ---- First step, 2 and 22 needs to change location\n",
    "# [2,27,16,22,18,6] ---- Second step, 27 and 6 needs to change,\n",
    "# [2,6,16,22,18,27] ---- Third step, checked the numbers but no need to change location, 16 is already in the right location\n",
    "# [2,6,16,22,18,27] ---- Fourth step, 18 and 22 needs to change\n",
    "# [2,6,16,18,22,27] ---- Last step checking it and seeing no need apply change for 22, 27 \n",
    "# [2,6,16,18,22,27] ---- Here is the lattest version\n",
    "\n",
    "# Big-O notation\n",
    "\n",
    "# Big-O notation is the O(n^2) for this insertion Sort."
   ]
  },
  {
   "cell_type": "code",
   "execution_count": null,
   "id": "bd6f423c",
   "metadata": {},
   "outputs": [],
   "source": [
    "# Time Complexity: Dizi sıralandıktan sonra 18 sayısı aşağıdaki case'lerden hangisinin kapsamına girer? Yazınız\n",
    "# It's a average case because when we sort the example series [2,6,16,18,22,27], \"18\" is in the middle."
   ]
  },
  {
   "cell_type": "code",
   "execution_count": null,
   "id": "e25e9d6f",
   "metadata": {},
   "outputs": [],
   "source": [
    "#[7,3,5,8,2,9,4,15,6] dizisinin Selection Sort'a göre ilk 4 adımını yazınız.\n",
    "\n",
    "# 1st step: [2,3,5,8,7,9,4,15,6] --- Changing the location between 2 and 7\n",
    "# 2nd step: [2,3,5,8,7,9,4,15,6] --- 3 is the minimum value and checked the series no need to apply changin on this step\n",
    "# 3rd step: [2,3,4,8,7,9,5,15,6] --- 4 and 5 needs to change.\n",
    "# 4th step: [2,3,4,5,7,9,8,15,6] --- 8 and 5 needs to change.\n"
   ]
  }
 ],
 "metadata": {
  "kernelspec": {
   "display_name": "Python 3 (ipykernel)",
   "language": "python",
   "name": "python3"
  },
  "language_info": {
   "codemirror_mode": {
    "name": "ipython",
    "version": 3
   },
   "file_extension": ".py",
   "mimetype": "text/x-python",
   "name": "python",
   "nbconvert_exporter": "python",
   "pygments_lexer": "ipython3",
   "version": "3.9.13"
  }
 },
 "nbformat": 4,
 "nbformat_minor": 5
}
