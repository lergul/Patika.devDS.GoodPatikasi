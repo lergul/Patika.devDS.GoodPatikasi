{
 "cells": [
  {
   "cell_type": "raw",
   "id": "f41bc686",
   "metadata": {},
   "source": [
    "Proje 2\n",
    "[16,21,11,8,12,22] -> Merge Sort\n",
    "\n",
    "Yukarıdaki dizinin sort türüne göre aşamalarını yazınız.\n",
    "Big-O gösterimini yazınız."
   ]
  },
  {
   "cell_type": "raw",
   "id": "914b0c31",
   "metadata": {},
   "source": [
    "1st [16,21,11] - [8,12,22]\n",
    "2nd [16] - [21,11] - [8] - [12,22]\n",
    "3rd [16] - [21] - [11] - [8] - [12] - [22]\n",
    "4th [16] - [11,21] - [8,12] - [22]\n",
    "5th [11,16,21] - [8,12,22]\n",
    "6th [8,11,12,16,21,22] --Final version"
   ]
  },
  {
   "cell_type": "raw",
   "id": "6b759cdc",
   "metadata": {},
   "source": [
    "Big-O \n",
    "\n",
    "2^x = n\n",
    "\n",
    "log(n) = x\n",
    "\n",
    "and for rhis question Big-O notation is\n",
    "n*"
   ]
  },
  {
   "cell_type": "markdown",
   "id": "40e5f77b",
   "metadata": {},
   "source": []
  },
  {
   "cell_type": "code",
   "execution_count": null,
   "id": "9fa51e23",
   "metadata": {},
   "outputs": [],
   "source": []
  },
  {
   "cell_type": "code",
   "execution_count": null,
   "id": "dcda4a5b",
   "metadata": {},
   "outputs": [],
   "source": []
  },
  {
   "cell_type": "code",
   "execution_count": null,
   "id": "6793ec52",
   "metadata": {},
   "outputs": [],
   "source": []
  },
  {
   "cell_type": "code",
   "execution_count": null,
   "id": "506277a9",
   "metadata": {},
   "outputs": [],
   "source": []
  }
 ],
 "metadata": {
  "kernelspec": {
   "display_name": "Python 3 (ipykernel)",
   "language": "python",
   "name": "python3"
  },
  "language_info": {
   "codemirror_mode": {
    "name": "ipython",
    "version": 3
   },
   "file_extension": ".py",
   "mimetype": "text/x-python",
   "name": "python",
   "nbconvert_exporter": "python",
   "pygments_lexer": "ipython3",
   "version": "3.9.13"
  }
 },
 "nbformat": 4,
 "nbformat_minor": 5
}
