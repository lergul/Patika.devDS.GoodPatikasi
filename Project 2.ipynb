{
 "cells": [
  {
   "cell_type": "code",
   "execution_count": null,
   "id": "55751e8a",
   "metadata": {},
   "outputs": [],
   "source": [
    "Proje 2\n",
    "[16,21,11,8,12,22] -> Merge Sort\n",
    "\n",
    "Yukarıdaki dizinin sort türüne göre aşamalarını yazınız.\n",
    "Big-O gösterimini yazınız."
   ]
  },
  {
   "cell_type": "code",
   "execution_count": null,
   "id": "1f7de494",
   "metadata": {},
   "outputs": [],
   "source": [
    "1st [16,21,11] - [8,12,22]\n",
    "2nd [16] - [21,11] - [8] - [12,22]\n",
    "3rd [16] - [21] - [11] - [8] - [12] - [22]\n",
    "4th [16] - [11,21] - [8,12] - [22]\n",
    "5th [11,16,21] - [8,12,22]\n",
    "6th [8,11,12,16,21,22] --Final version"
   ]
  },
  {
   "cell_type": "code",
   "execution_count": null,
   "id": "5e224e67",
   "metadata": {},
   "outputs": [],
   "source": [
    "Big-O \n",
    "\n",
    "2^x = n\n",
    "\n",
    "log(n) = x\n",
    "\n",
    "and for rhis question Big-O notation is\n",
    "O(n*logn)"
   ]
  },
  {
   "cell_type": "markdown",
   "id": "6d110a71",
   "metadata": {},
   "source": []
  },
  {
   "cell_type": "code",
   "execution_count": null,
   "id": "deca6309",
   "metadata": {},
   "outputs": [],
   "source": []
  },
  {
   "cell_type": "code",
   "execution_count": null,
   "id": "42da78a0",
   "metadata": {},
   "outputs": [],
   "source": []
  },
  {
   "cell_type": "code",
   "execution_count": null,
   "id": "b29f8477",
   "metadata": {},
   "outputs": [],
   "source": []
  },
  {
   "cell_type": "code",
   "execution_count": null,
   "id": "a422a124",
   "metadata": {},
   "outputs": [],
   "source": []
  }
 ],
 "metadata": {
  "kernelspec": {
   "display_name": "Python 3 (ipykernel)",
   "language": "python",
   "name": "python3"
  },
  "language_info": {
   "codemirror_mode": {
    "name": "ipython",
    "version": 3
   },
   "file_extension": ".py",
   "mimetype": "text/x-python",
   "name": "python",
   "nbconvert_exporter": "python",
   "pygments_lexer": "ipython3",
   "version": "3.9.13"
  }
 },
 "nbformat": 4,
 "nbformat_minor": 5
}
