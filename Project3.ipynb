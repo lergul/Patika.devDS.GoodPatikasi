{
 "cells": [
  {
   "cell_type": "code",
   "execution_count": null,
   "id": "7f085617",
   "metadata": {},
   "outputs": [],
   "source": [
    "Proje 3\n",
    "[7, 5, 1, 8, 3, 6, 0, 9, 4, 2] dizisinin Binary-Search-Tree aşamalarını yazınız.\n",
    "\n",
    "# Örnek: root x'dir. root'un sağından y bulunur. Solunda z bulunur vb."
   ]
  },
  {
   "cell_type": "raw",
   "id": "eb467cd5",
   "metadata": {},
   "source": [
    "7 the roof of the series. Afre the choosing root we will start to check every data points if they are bigger or smaller than the root. \n",
    "Second step five needs to onf the left side, its smaller than to 7.\n",
    "Third step, 1 is smaller than 7 and 5, thats why its on the left side\n",
    "Fourd step, 8 is bigger than 7 and thats why its on the right side\n",
    "Fifth step, 3 is smaller than 7 and 5, but its bigger than 1\n",
    "Sixth step, 6 is smaller than 7 but bigger than 5,\n",
    "Seventh step, 0 is smaller than 7,5 and 1 \n",
    "Eighth step, 9 is bigger than 7 and 8 \n",
    "Ninth step, 4 is smaller than 7 and 5 but its bigger than 1 and 3\n",
    "Last step, 2 is smaller than 7 and 5 and bigger than 1 but its smaller than 3\n",
    "\n",
    "\n",
    "                                        7\n",
    "                                   5        8                                           \n",
    "                               1       6        9\n",
    "                            0     3\n",
    "                                2    4"
   ]
  },
  {
   "cell_type": "code",
   "execution_count": null,
   "id": "2ae19db2",
   "metadata": {},
   "outputs": [],
   "source": []
  }
 ],
 "metadata": {
  "kernelspec": {
   "display_name": "Python 3 (ipykernel)",
   "language": "python",
   "name": "python3"
  },
  "language_info": {
   "codemirror_mode": {
    "name": "ipython",
    "version": 3
   },
   "file_extension": ".py",
   "mimetype": "text/x-python",
   "name": "python",
   "nbconvert_exporter": "python",
   "pygments_lexer": "ipython3",
   "version": "3.9.13"
  }
 },
 "nbformat": 4,
 "nbformat_minor": 5
}
